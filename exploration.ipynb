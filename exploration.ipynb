{
 "cells": [
  {
   "cell_type": "code",
   "execution_count": 1,
   "metadata": {},
   "outputs": [],
   "source": [
    "import os\n",
    "import numpy as np\n",
    "import quaternion\n",
    "import time\n",
    "from PIL import Image\n",
    "\n",
    "import matplotlib.pyplot as plt\n",
    "%matplotlib inline\n",
    "\n",
    "import habitat\n",
    "\n",
    "import torch.nn as nn\n",
    "import torch.nn.functional as F\n",
    "import torch\n",
    "from torchvision.transforms import ToTensor\n",
    "from torchvision.transforms.functional import rotate as torchrot\n",
    "from models import device, WarpSeg, tensor\n",
    "from utils import d3_40_colors_rgb"
   ]
  },
  {
   "cell_type": "code",
   "execution_count": 2,
   "metadata": {},
   "outputs": [],
   "source": [
    "config = habitat.get_config(\"/home/azav/habitat-api/configs/tasks/objectnav_mp3d.yaml\")\n",
    "config.defrost()\n",
    "config.DATASET.SCENES_DIR = '/home/azav/habitat-api/data/scene_datasets/'\n",
    "config.DATASET.DATA_PATH = '/home/azav/habitat-api/data/datasets/objectnav/mp3d/v1/{split}/{split}.json.gz'\n",
    "config.DATASET.SPLIT = 'val'\n",
    "config.SIMULATOR.AGENT_0.SENSORS = ['RGB_SENSOR', 'DEPTH_SENSOR', 'SEMANTIC_SENSOR']\n",
    "config.SIMULATOR.DEPTH_SENSOR.NORMALIZE_DEPTH = False\n",
    "config.freeze()"
   ]
  },
  {
   "cell_type": "code",
   "execution_count": 3,
   "metadata": {},
   "outputs": [
    {
     "data": {
      "text/plain": [
       "Config({'SEED': 100, 'ENVIRONMENT': Config({'MAX_EPISODE_STEPS': 500, 'MAX_EPISODE_SECONDS': 10000000, 'ITERATOR_OPTIONS': Config({'CYCLE': True, 'SHUFFLE': True, 'GROUP_BY_SCENE': True, 'NUM_EPISODE_SAMPLE': -1, 'MAX_SCENE_REPEAT_EPISODES': -1, 'MAX_SCENE_REPEAT_STEPS': 10000, 'STEP_REPETITION_RANGE': 0.2})}), 'TASK': Config({'TYPE': 'ObjectNav-v1', 'SUCCESS_DISTANCE': 0.1, 'SENSORS': ['OBJECTGOAL_SENSOR', 'COMPASS_SENSOR', 'GPS_SENSOR'], 'MEASUREMENTS': ['DISTANCE_TO_GOAL', 'SUCCESS', 'SPL'], 'GOAL_SENSOR_UUID': 'objectgoal', 'POSSIBLE_ACTIONS': ['STOP', 'MOVE_FORWARD', 'TURN_LEFT', 'TURN_RIGHT', 'LOOK_UP', 'LOOK_DOWN'], 'ACTIONS': Config({'STOP': Config({'TYPE': 'StopAction'}), 'MOVE_FORWARD': Config({'TYPE': 'MoveForwardAction'}), 'TURN_LEFT': Config({'TYPE': 'TurnLeftAction'}), 'TURN_RIGHT': Config({'TYPE': 'TurnRightAction'}), 'LOOK_UP': Config({'TYPE': 'LookUpAction'}), 'LOOK_DOWN': Config({'TYPE': 'LookDownAction'}), 'TELEPORT': Config({'TYPE': 'TeleportAction'}), 'ANSWER': Config({'TYPE': 'AnswerAction'})}), 'POINTGOAL_SENSOR': Config({'TYPE': 'PointGoalSensor', 'GOAL_FORMAT': 'POLAR', 'DIMENSIONALITY': 2}), 'POINTGOAL_WITH_GPS_COMPASS_SENSOR': Config({'TYPE': 'PointGoalWithGPSCompassSensor', 'GOAL_FORMAT': 'POLAR', 'DIMENSIONALITY': 2}), 'OBJECTGOAL_SENSOR': Config({'TYPE': 'ObjectGoalSensor', 'GOAL_SPEC': 'TASK_CATEGORY_ID', 'GOAL_SPEC_MAX_VAL': 50}), 'HEADING_SENSOR': Config({'TYPE': 'HeadingSensor'}), 'COMPASS_SENSOR': Config({'TYPE': 'CompassSensor'}), 'GPS_SENSOR': Config({'TYPE': 'GPSSensor', 'DIMENSIONALITY': 2}), 'PROXIMITY_SENSOR': Config({'TYPE': 'ProximitySensor', 'MAX_DETECTION_RADIUS': 2.0}), 'SUCCESS': Config({'TYPE': 'Success', 'SUCCESS_DISTANCE': 0.1}), 'SPL': Config({'TYPE': 'SPL'}), 'TOP_DOWN_MAP': Config({'TYPE': 'TopDownMap', 'MAX_EPISODE_STEPS': 1000, 'MAP_PADDING': 3, 'NUM_TOPDOWN_MAP_SAMPLE_POINTS': 20000, 'MAP_RESOLUTION': 1250, 'DRAW_SOURCE': True, 'DRAW_BORDER': True, 'DRAW_SHORTEST_PATH': True, 'FOG_OF_WAR': Config({'DRAW': True, 'VISIBILITY_DIST': 5.0, 'FOV': 90}), 'DRAW_VIEW_POINTS': True, 'DRAW_GOAL_POSITIONS': True, 'DRAW_GOAL_AABBS': True}), 'COLLISIONS': Config({'TYPE': 'Collisions'}), 'QUESTION_SENSOR': Config({'TYPE': 'QuestionSensor'}), 'CORRECT_ANSWER': Config({'TYPE': 'CorrectAnswer'}), 'EPISODE_INFO': Config({'TYPE': 'EpisodeInfo'}), 'INSTRUCTION_SENSOR': Config({'TYPE': 'InstructionSensor'}), 'INSTRUCTION_SENSOR_UUID': 'instruction', 'DISTANCE_TO_GOAL': Config({'TYPE': 'DistanceToGoal', 'DISTANCE_TO': 'VIEW_POINTS'}), 'ANSWER_ACCURACY': Config({'TYPE': 'AnswerAccuracy'})}), 'SIMULATOR': Config({'TYPE': 'Sim-v0', 'ACTION_SPACE_CONFIG': 'v1', 'FORWARD_STEP_SIZE': 0.25, 'SCENE': 'data/scene_datasets/habitat-test-scenes/van-gogh-room.glb', 'SEED': 100, 'TURN_ANGLE': 30, 'TILT_ANGLE': 30, 'DEFAULT_AGENT_ID': 0, 'RGB_SENSOR': Config({'HEIGHT': 480, 'WIDTH': 640, 'HFOV': 79, 'POSITION': [0, 0.88, 0], 'ORIENTATION': [0.0, 0.0, 0.0], 'TYPE': 'HabitatSimRGBSensor'}), 'DEPTH_SENSOR': Config({'HEIGHT': 480, 'WIDTH': 640, 'HFOV': 79, 'POSITION': [0, 0.88, 0], 'ORIENTATION': [0.0, 0.0, 0.0], 'TYPE': 'HabitatSimDepthSensor', 'MIN_DEPTH': 0.5, 'MAX_DEPTH': 5.0, 'NORMALIZE_DEPTH': False}), 'SEMANTIC_SENSOR': Config({'HEIGHT': 480, 'WIDTH': 640, 'HFOV': 79, 'POSITION': [0, 0.88, 0], 'ORIENTATION': [0.0, 0.0, 0.0], 'TYPE': 'HabitatSimSemanticSensor'}), 'AGENT_0': Config({'HEIGHT': 0.88, 'RADIUS': 0.18, 'MASS': 32.0, 'LINEAR_ACCELERATION': 20.0, 'ANGULAR_ACCELERATION': 12.56, 'LINEAR_FRICTION': 0.5, 'ANGULAR_FRICTION': 1.0, 'COEFFICIENT_OF_RESTITUTION': 0.0, 'SENSORS': ['RGB_SENSOR', 'DEPTH_SENSOR', 'SEMANTIC_SENSOR'], 'IS_SET_START_STATE': False, 'START_POSITION': [0, 0, 0], 'START_ROTATION': [0, 0, 0, 1]}), 'AGENTS': ['AGENT_0'], 'HABITAT_SIM_V0': Config({'GPU_DEVICE_ID': 0, 'GPU_GPU': False, 'ALLOW_SLIDING': False, 'ENABLE_PHYSICS': False, 'PHYSICS_CONFIG_FILE': './data/default.phys_scene_config.json'})}), 'PYROBOT': Config({'ROBOTS': ['locobot'], 'ROBOT': 'locobot', 'SENSORS': ['RGB_SENSOR', 'DEPTH_SENSOR', 'BUMP_SENSOR'], 'BASE_CONTROLLER': 'proportional', 'BASE_PLANNER': 'none', 'RGB_SENSOR': Config({'HEIGHT': 480, 'WIDTH': 640, 'TYPE': 'PyRobotRGBSensor', 'CENTER_CROP': False}), 'DEPTH_SENSOR': Config({'HEIGHT': 480, 'WIDTH': 640, 'TYPE': 'PyRobotDepthSensor', 'MIN_DEPTH': 0.0, 'MAX_DEPTH': 5.0, 'NORMALIZE_DEPTH': True, 'CENTER_CROP': False}), 'BUMP_SENSOR': Config({'TYPE': 'PyRobotBumpSensor'}), 'LOCOBOT': Config({'ACTIONS': ['BASE_ACTIONS', 'CAMERA_ACTIONS'], 'BASE_ACTIONS': ['go_to_relative', 'go_to_absolute'], 'CAMERA_ACTIONS': ['set_pan', 'set_tilt', 'set_pan_tilt']})}), 'DATASET': Config({'TYPE': 'ObjectNav-v1', 'SPLIT': 'val', 'SCENES_DIR': '/home/azav/habitat-api/data/scene_datasets/', 'CONTENT_SCENES': ['*'], 'DATA_PATH': '/home/azav/habitat-api/data/datasets/objectnav/mp3d/v1/{split}/{split}.json.gz'})})"
      ]
     },
     "execution_count": 3,
     "metadata": {},
     "output_type": "execute_result"
    }
   ],
   "source": [
    "config\n"
   ]
  },
  {
   "cell_type": "code",
   "execution_count": 4,
   "metadata": {},
   "outputs": [
    {
     "name": "stderr",
     "output_type": "stream",
     "text": [
      "2020-05-17 22:30:11,452 Initializing dataset ObjectNav-v1\n",
      "2020-05-17 22:30:14,355 initializing sim Sim-v0\n",
      "I0517 22:30:28.789825 6173 simulator.py:142] Loaded navmesh /home/azav/habitat-api/data/scene_datasets/mp3d/TbHJrupSAjP/TbHJrupSAjP.navmesh\n",
      "2020-05-17 22:30:28,810 Initializing task ObjectNav-v1\n"
     ]
    }
   ],
   "source": [
    "env = habitat.Env(config=config)\n",
    "\n"
   ]
  },
  {
   "cell_type": "code",
   "execution_count": 5,
   "metadata": {},
   "outputs": [
    {
     "name": "stdout",
     "output_type": "stream",
     "text": [
      "[6]\n",
      "[12]\n",
      "[12]\n",
      "[8]\n"
     ]
    }
   ],
   "source": [
    "\n",
    "print(env.reset()['objectgoal'])\n",
    "print(env.reset()['objectgoal'])\n",
    "print(env.reset()['objectgoal'])\n",
    "print(env.reset()['objectgoal'])"
   ]
  },
  {
   "cell_type": "code",
   "execution_count": 19,
   "metadata": {},
   "outputs": [
    {
     "name": "stdout",
     "output_type": "stream",
     "text": [
      "dict_keys(['2azQ1b91cZZ.glb_cabinet', '2azQ1b91cZZ.glb_sofa', '2azQ1b91cZZ.glb_table', '2azQ1b91cZZ.glb_chair', '2azQ1b91cZZ.glb_cushion', '2azQ1b91cZZ.glb_plant', '2azQ1b91cZZ.glb_counter', '2azQ1b91cZZ.glb_sink', '2azQ1b91cZZ.glb_picture', '2azQ1b91cZZ.glb_fireplace', '2azQ1b91cZZ.glb_toilet', '2azQ1b91cZZ.glb_towel', '2azQ1b91cZZ.glb_seating', '2azQ1b91cZZ.glb_chest_of_drawers', '2azQ1b91cZZ.glb_bed', '2azQ1b91cZZ.glb_shower', '2azQ1b91cZZ.glb_bathtub', '2azQ1b91cZZ.glb_clothes', '2azQ1b91cZZ.glb_stool', '8194nk5LbLH.glb_gym_equipment', '8194nk5LbLH.glb_tv_monitor', '8194nk5LbLH.glb_picture', '8194nk5LbLH.glb_counter', '8194nk5LbLH.glb_chair', '8194nk5LbLH.glb_cabinet', '8194nk5LbLH.glb_table', '8194nk5LbLH.glb_stool', '8194nk5LbLH.glb_plant', '8194nk5LbLH.glb_towel', '8194nk5LbLH.glb_sofa', 'EU6Fwq7SyZv.glb_cabinet', 'EU6Fwq7SyZv.glb_shower', 'EU6Fwq7SyZv.glb_picture', 'EU6Fwq7SyZv.glb_toilet', 'EU6Fwq7SyZv.glb_towel', 'EU6Fwq7SyZv.glb_sink', 'EU6Fwq7SyZv.glb_chest_of_drawers', 'EU6Fwq7SyZv.glb_bed', 'EU6Fwq7SyZv.glb_cushion', 'EU6Fwq7SyZv.glb_chair', 'EU6Fwq7SyZv.glb_stool', 'EU6Fwq7SyZv.glb_plant', 'EU6Fwq7SyZv.glb_table', 'EU6Fwq7SyZv.glb_seating', 'EU6Fwq7SyZv.glb_sofa', 'EU6Fwq7SyZv.glb_counter', 'EU6Fwq7SyZv.glb_fireplace', 'QUCTc6BB5sX.glb_chest_of_drawers', 'QUCTc6BB5sX.glb_chair', 'QUCTc6BB5sX.glb_toilet', 'QUCTc6BB5sX.glb_towel', 'QUCTc6BB5sX.glb_bathtub', 'QUCTc6BB5sX.glb_sink', 'QUCTc6BB5sX.glb_stool', 'QUCTc6BB5sX.glb_table', 'QUCTc6BB5sX.glb_sofa', 'QUCTc6BB5sX.glb_bed', 'QUCTc6BB5sX.glb_tv_monitor', 'QUCTc6BB5sX.glb_cushion', 'QUCTc6BB5sX.glb_plant', 'QUCTc6BB5sX.glb_cabinet', 'QUCTc6BB5sX.glb_picture', 'QUCTc6BB5sX.glb_gym_equipment', 'QUCTc6BB5sX.glb_seating', 'QUCTc6BB5sX.glb_counter', 'QUCTc6BB5sX.glb_shower', 'QUCTc6BB5sX.glb_clothes', 'TbHJrupSAjP.glb_counter', 'TbHJrupSAjP.glb_plant', 'TbHJrupSAjP.glb_cabinet', 'TbHJrupSAjP.glb_stool', 'TbHJrupSAjP.glb_sofa', 'TbHJrupSAjP.glb_chair', 'TbHJrupSAjP.glb_cushion', 'TbHJrupSAjP.glb_table', 'TbHJrupSAjP.glb_picture', 'TbHJrupSAjP.glb_chest_of_drawers', 'TbHJrupSAjP.glb_bed', 'TbHJrupSAjP.glb_seating', 'TbHJrupSAjP.glb_gym_equipment', 'TbHJrupSAjP.glb_shower', 'TbHJrupSAjP.glb_toilet', 'TbHJrupSAjP.glb_towel', 'TbHJrupSAjP.glb_sink', 'TbHJrupSAjP.glb_fireplace', 'TbHJrupSAjP.glb_bathtub', 'X7HyMhZNoso.glb_bed', 'X7HyMhZNoso.glb_chair', 'X7HyMhZNoso.glb_cushion', 'X7HyMhZNoso.glb_picture', 'X7HyMhZNoso.glb_chest_of_drawers', 'X7HyMhZNoso.glb_shower', 'X7HyMhZNoso.glb_counter', 'X7HyMhZNoso.glb_cabinet', 'X7HyMhZNoso.glb_towel', 'X7HyMhZNoso.glb_toilet', 'X7HyMhZNoso.glb_bathtub', 'X7HyMhZNoso.glb_sink', 'X7HyMhZNoso.glb_plant', 'X7HyMhZNoso.glb_table', 'X7HyMhZNoso.glb_sofa', 'X7HyMhZNoso.glb_tv_monitor', 'Z6MFQCViBuw.glb_chest_of_drawers', 'Z6MFQCViBuw.glb_chair', 'Z6MFQCViBuw.glb_bed', 'Z6MFQCViBuw.glb_picture', 'Z6MFQCViBuw.glb_table', 'Z6MFQCViBuw.glb_cabinet', 'Z6MFQCViBuw.glb_seating', 'Z6MFQCViBuw.glb_stool', 'Z6MFQCViBuw.glb_fireplace', 'Z6MFQCViBuw.glb_sofa', 'oLBMNvg9in8.glb_cabinet', 'oLBMNvg9in8.glb_table', 'oLBMNvg9in8.glb_chair', 'oLBMNvg9in8.glb_picture', 'oLBMNvg9in8.glb_cushion', 'oLBMNvg9in8.glb_clothes', 'oLBMNvg9in8.glb_fireplace', 'oLBMNvg9in8.glb_plant', 'oLBMNvg9in8.glb_sofa', 'oLBMNvg9in8.glb_stool', 'oLBMNvg9in8.glb_sink', 'oLBMNvg9in8.glb_toilet', 'oLBMNvg9in8.glb_bathtub', 'oLBMNvg9in8.glb_bed', 'oLBMNvg9in8.glb_towel', 'pLe4wQe7qrG.glb_shower', 'pLe4wQe7qrG.glb_table', 'pLe4wQe7qrG.glb_seating', 'x8F5xyUWy9e.glb_plant', 'x8F5xyUWy9e.glb_table', 'x8F5xyUWy9e.glb_sink', 'x8F5xyUWy9e.glb_cabinet', 'x8F5xyUWy9e.glb_seating', 'x8F5xyUWy9e.glb_towel', 'x8F5xyUWy9e.glb_shower', 'x8F5xyUWy9e.glb_clothes', 'x8F5xyUWy9e.glb_bed', 'x8F5xyUWy9e.glb_counter', 'x8F5xyUWy9e.glb_chair', 'zsNo4HB9uLZ.glb_cabinet', 'zsNo4HB9uLZ.glb_bed', 'zsNo4HB9uLZ.glb_picture', 'zsNo4HB9uLZ.glb_table', 'zsNo4HB9uLZ.glb_towel', 'zsNo4HB9uLZ.glb_cushion', 'zsNo4HB9uLZ.glb_seating', 'zsNo4HB9uLZ.glb_chair', 'zsNo4HB9uLZ.glb_chest_of_drawers', 'zsNo4HB9uLZ.glb_sink', 'zsNo4HB9uLZ.glb_counter', 'zsNo4HB9uLZ.glb_plant', 'zsNo4HB9uLZ.glb_toilet', 'zsNo4HB9uLZ.glb_bathtub', 'zsNo4HB9uLZ.glb_shower', 'zsNo4HB9uLZ.glb_stool', 'zsNo4HB9uLZ.glb_sofa', 'zsNo4HB9uLZ.glb_tv_monitor', 'zsNo4HB9uLZ.glb_fireplace', 'zsNo4HB9uLZ.glb_clothes'])\n"
     ]
    }
   ],
   "source": [
    "print(env._dataset.goals_by_category.keys())"
   ]
  },
  {
   "cell_type": "code",
   "execution_count": 14,
   "metadata": {},
   "outputs": [
    {
     "name": "stdout",
     "output_type": "stream",
     "text": [
      "{'chair': 0, 'table': 1, 'picture': 2, 'cabinet': 3, 'cushion': 4, 'sofa': 5, 'bed': 6, 'chest_of_drawers': 7, 'plant': 8, 'sink': 9, 'toilet': 10, 'stool': 11, 'towel': 12, 'tv_monitor': 13, 'shower': 14, 'bathtub': 15, 'counter': 16, 'fireplace': 17, 'gym_equipment': 18, 'seating': 19, 'clothes': 20}\n"
     ]
    },
    {
     "data": {
      "text/plain": [
       "{'chair': 3,\n",
       " 'table': 5,\n",
       " 'picture': 6,\n",
       " 'cabinet': 7,\n",
       " 'cushion': 8,\n",
       " 'sofa': 10,\n",
       " 'bed': 11,\n",
       " 'chest_of_drawers': 13,\n",
       " 'plant': 14,\n",
       " 'sink': 15,\n",
       " 'toilet': 18,\n",
       " 'stool': 19,\n",
       " 'towel': 20,\n",
       " 'tv_monitor': 22,\n",
       " 'shower': 23,\n",
       " 'bathtub': 25,\n",
       " 'counter': 26,\n",
       " 'fireplace': 27,\n",
       " 'gym_equipment': 33,\n",
       " 'seating': 34,\n",
       " 'clothes': 38}"
      ]
     },
     "execution_count": 14,
     "metadata": {},
     "output_type": "execute_result"
    }
   ],
   "source": [
    "print(env._dataset.category_to_task_category_id)\n",
    "env._dataset.category_to_scene_annotation_category_id"
   ]
  },
  {
   "cell_type": "code",
   "execution_count": 21,
   "metadata": {},
   "outputs": [
    {
     "name": "stdout",
     "output_type": "stream",
     "text": [
      "{3: 0, 5: 1, 6: 2, 7: 3, 8: 4, 10: 5, 11: 6, 13: 7, 14: 8, 15: 9, 18: 10, 19: 11, 20: 12, 22: 13, 23: 14, 25: 15, 26: 16, 27: 17, 33: 18, 34: 19, 38: 20}\n"
     ]
    }
   ],
   "source": [
    "scene_annotation_to_task_category_id = {}\n",
    "for k, v in env._dataset.category_to_scene_annotation_category_id.items():\n",
    "    scene_annotation_to_task_category_id[v] = env._dataset.category_to_task_category_id[k]\n",
    "print(scene_annotation_to_task_category_id)  # same region(room?)+within FOV=GT, fix projection (check existing SLAM methods?)"
   ]
  },
  {
   "cell_type": "code",
   "execution_count": 6,
   "metadata": {},
   "outputs": [],
   "source": [
    "obs = env.reset()"
   ]
  },
  {
   "cell_type": "code",
   "execution_count": 11,
   "metadata": {},
   "outputs": [
    {
     "name": "stdout",
     "output_type": "stream",
     "text": [
      "21\n",
      "['counter', 'cabinet', 'cushion', 'chair', 'table', 'table', 'chair', 'picture', 'cabinet', 'seating', 'chair', 'table', 'bed', 'bed', 'sink', 'gym_equipment', 'sink', 'bed', 'cabinet', 'seating', 'cabinet', 'cushion', 'table', 'plant', 'chair', 'cabinet', 'table', 'cushion', 'bathtub', 'table', 'counter', 'clothes', 'table', 'picture', 'plant', 'toilet', 'towel', 'clothes', 'cabinet', 'table', 'picture', 'stool', 'cushion', 'picture', 'picture', 'table', 'cushion', 'chair', 'cabinet', 'sink', 'table', 'chair', 'fireplace', 'cushion', 'toilet', 'chair', 'table', 'table', 'cushion', 'clothes', 'chair', 'cushion', 'seating', 'table', 'picture', 'cushion', 'stool', 'table', 'seating', 'picture', 'chair', 'cushion', 'cabinet', 'cushion', 'chair', 'sink', 'cabinet', 'chair', 'chair', 'cushion', 'stool', 'table', 'fireplace', 'table', 'table', 'counter', 'cabinet', 'shower', 'chest_of_drawers', 'counter', 'picture', 'cushion', 'cabinet', 'table', 'chair', 'chair', 'chair', 'table', 'sofa', 'table', 'gym_equipment', 'plant', 'table', 'plant', 'toilet', 'stool', 'sink', 'fireplace', 'picture', 'sofa', 'plant', 'chair', 'cabinet', 'toilet', 'chair', 'plant', 'bed', 'chair', 'chair', 'shower', 'tv_monitor', 'cushion', 'chair', 'sofa', 'cabinet', 'chair', 'chair', 'picture', 'chair', 'picture', 'table', 'gym_equipment', 'table', 'cushion', 'sofa', 'stool', 'cabinet', 'cabinet', 'table', 'picture', 'picture', 'toilet', 'table', 'gym_equipment', 'chair', 'chair', 'chair', 'sink', 'seating', 'chair', 'gym_equipment', 'fireplace', 'plant', 'table', 'table', 'chair', 'table', 'cushion', 'chair', 'shower', 'chair', 'chair', 'picture', 'cushion', 'chest_of_drawers', 'counter', 'table', 'shower', 'table', 'cabinet', 'shower', 'cabinet', 'table', 'gym_equipment', 'plant', 'towel', 'chair', 'chair', 'cushion', 'table', 'table', 'table', 'picture', 'towel', 'table', 'chair', 'towel', 'toilet', 'chest_of_drawers', 'chair', 'shower', 'table', 'seating', 'chair', 'shower', 'bed', 'cushion', 'chair', 'table', 'plant', 'seating', 'chair', 'cushion', 'gym_equipment', 'chair', 'table', 'shower', 'chair', 'sink', 'towel', 'chair', 'picture', 'cushion', 'chair', 'cushion', 'cabinet', 'gym_equipment', 'bed', 'seating', 'table', 'seating', 'fireplace', 'picture', 'seating', 'chair', 'cabinet', 'table', 'cushion', 'bed', 'cabinet', 'chair', 'picture', 'cabinet', 'chair', 'shower', 'chair', 'cabinet', 'chair', 'picture', 'table', 'gym_equipment', 'bed', 'chair', 'cabinet', 'plant', 'picture', 'chair', 'gym_equipment', 'cushion', 'seating', 'cushion', 'cabinet', 'seating', 'sink', 'table', 'gym_equipment', 'cushion', 'cushion', 'table', 'chair', 'cushion', 'table', 'cushion', 'counter', 'chair', 'plant', 'table', 'chair', 'seating', 'chest_of_drawers', 'plant', 'seating', 'chair', 'cushion', 'chair', 'toilet', 'seating', 'table', 'table', 'towel', 'plant', 'bed', 'cushion', 'cushion', 'table', 'table', 'table', 'table', 'table', 'cabinet', 'table', 'toilet', 'plant', 'picture', 'plant', 'cushion', 'chair', 'picture', 'cushion', 'picture', 'cushion', 'toilet', 'picture', 'counter', 'plant', 'cabinet', 'cabinet', 'cabinet', 'chair', 'tv_monitor', 'picture', 'chair', 'shower', 'table', 'picture', 'chair', 'cabinet', 'table', 'chair', 'gym_equipment', 'plant', 'sofa', 'towel', 'sink', 'chair', 'towel', 'table', 'chair', 'counter', 'cabinet', 'plant', 'picture', 'cushion', 'chair', 'chair', 'counter', 'table', 'sink', 'picture', 'chair', 'chair', 'table', 'plant', 'chair', 'cushion', 'chair', 'table', 'chair', 'cushion', 'sofa', 'cabinet', 'chair', 'chair', 'chair', 'table', 'chair', 'tv_monitor', 'picture', 'bed', 'sofa', 'chair', 'table', 'counter', 'chair', 'stool', 'stool', 'cabinet', 'stool', 'chair', 'counter', 'table', 'table', 'chair', 'towel', 'cabinet', 'sink', 'sink', 'counter', 'clothes', 'picture', 'table', 'plant', 'cabinet', 'table', 'towel', 'toilet', 'cabinet', 'stool', 'chair', 'stool', 'shower', 'cushion', 'cabinet', 'cushion', 'cabinet', 'chair', 'stool', 'sink', 'fireplace', 'chair', 'table', 'cushion', 'chest_of_drawers', 'cushion', 'chair', 'cabinet', 'chair', 'shower', 'shower', 'table', 'table', 'table', 'cabinet', 'cabinet', 'chair', 'sofa', 'table', 'chair', 'chair', 'chair', 'picture', 'table', 'chair', 'cabinet', 'picture', 'toilet', 'cabinet', 'chest_of_drawers', 'picture', 'table', 'plant', 'chair', 'chair', 'cabinet', 'picture', 'towel', 'plant', 'cushion', 'stool', 'chair', 'gym_equipment', 'shower', 'chair', 'chair', 'cushion', 'table', 'picture', 'sofa', 'counter', 'shower', 'table', 'chair', 'picture', 'gym_equipment', 'cushion', 'seating', 'table', 'chair', 'picture', 'towel', 'chair', 'plant', 'shower', 'clothes', 'stool', 'clothes', 'cushion', 'table', 'table', 'table', 'cushion', 'bed', 'cabinet', 'towel', 'cushion', 'table', 'towel', 'cushion', 'bed', 'cushion', 'table', 'counter', 'chair', 'chair', 'chair', 'sink', 'cushion', 'cushion', 'chair', 'cushion', 'cushion', 'table', 'table', 'clothes', 'cabinet', 'cushion', 'sink', 'table', 'chest_of_drawers', 'cabinet', 'cushion', 'plant', 'cabinet', 'table', 'cushion', 'stool', 'gym_equipment', 'table', 'table', 'chair', 'chair', 'sofa', 'table', 'sink', 'shower', 'seating', 'cushion', 'seating', 'table', 'shower', 'towel', 'counter', 'picture', 'table', 'chair', 'table', 'chair', 'picture', 'counter', 'cushion', 'cabinet', 'gym_equipment', 'gym_equipment', 'chest_of_drawers', 'sink', 'table', 'chest_of_drawers', 'table', 'shower', 'chair', 'gym_equipment', 'cabinet', 'table', 'fireplace', 'towel', 'cushion', 'sink', 'counter', 'sink', 'towel', 'cushion', 'cushion', 'chair', 'cushion', 'chair', 'cabinet', 'table', 'shower', 'seating', 'plant', 'chest_of_drawers', 'sink', 'chair', 'gym_equipment', 'sink', 'chair', 'bed', 'cushion', 'cushion', 'chair', 'table', 'bed', 'stool', 'chest_of_drawers', 'picture', 'chair', 'stool', 'table', 'cabinet', 'plant', 'picture', 'table', 'plant', 'table', 'chair', 'counter', 'cabinet', 'counter', 'cushion', 'chair', 'bed', 'stool', 'chair', 'towel', 'cushion', 'cushion', 'cabinet', 'sink', 'table', 'cabinet', 'table', 'table', 'chair', 'cushion', 'chair', 'picture', 'towel', 'table', 'table', 'chair', 'cushion', 'chair', 'shower', 'chest_of_drawers', 'stool', 'chair', 'table', 'fireplace', 'chair', 'table', 'counter', 'table', 'cabinet', 'table', 'plant', 'cushion', 'chair', 'table', 'counter', 'cabinet', 'table', 'chair', 'sink', 'seating', 'seating', 'seating', 'chair', 'chair', 'table', 'shower', 'chair', 'towel', 'stool', 'gym_equipment', 'cabinet', 'table', 'table', 'clothes', 'gym_equipment', 'cabinet', 'cabinet', 'sink', 'cushion', 'bathtub', 'counter', 'cushion', 'cushion', 'counter', 'table', 'table', 'chair', 'counter', 'plant', 'cabinet', 'cushion', 'chair', 'counter', 'shower', 'picture', 'chest_of_drawers', 'gym_equipment', 'chest_of_drawers', 'table', 'plant', 'cabinet', 'chair', 'cushion', 'table', 'seating', 'chair', 'cushion', 'picture', 'chair', 'toilet', 'shower', 'stool', 'gym_equipment', 'cushion', 'chair', 'cushion', 'counter', 'table', 'sink', 'gym_equipment', 'plant', 'cabinet', 'plant', 'table', 'chair', 'sink', 'cushion', 'seating', 'table', 'picture', 'cushion', 'table', 'chest_of_drawers', 'counter', 'stool', 'towel', 'fireplace', 'chair', 'picture', 'cushion', 'table', 'cushion', 'picture', 'cushion', 'seating', 'seating', 'picture', 'table', 'chair', 'shower', 'chair', 'bed', 'cabinet', 'stool', 'cushion', 'table', 'cushion', 'towel', 'shower', 'table', 'towel', 'chair', 'table', 'table', 'sofa', 'stool', 'plant', 'cushion', 'chair', 'towel', 'cabinet', 'table', 'table', 'table', 'shower', 'table', 'table', 'cushion', 'chair', 'towel', 'cabinet', 'chair', 'chair', 'counter', 'chair', 'toilet', 'cabinet', 'table', 'stool', 'chest_of_drawers', 'cushion', 'table', 'gym_equipment', 'table', 'clothes', 'picture', 'table', 'table', 'sink', 'chair', 'stool', 'table', 'chest_of_drawers', 'chair', 'towel', 'stool', 'bathtub', 'chair', 'cushion', 'fireplace', 'chair', 'chair', 'cabinet', 'bed', 'sofa', 'table', 'chest_of_drawers', 'counter', 'gym_equipment', 'chest_of_drawers', 'chair', 'cabinet', 'bed', 'plant', 'table', 'cushion', 'chair', 'chair', 'picture', 'chair', 'seating', 'chair', 'cushion', 'chair', 'picture', 'bed', 'chair', 'chair', 'stool', 'chair', 'towel', 'sofa', 'fireplace', 'chair', 'table', 'table', 'plant', 'cabinet', 'cabinet', 'cushion', 'chair', 'cushion', 'table', 'table', 'sink', 'cabinet', 'seating', 'stool', 'chair', 'table', 'seating', 'fireplace', 'plant', 'chair', 'cushion', 'table', 'gym_equipment', 'sink', 'picture', 'stool', 'chair', 'chair', 'chair', 'table', 'sofa', 'picture', 'chair', 'table', 'chair', 'sofa', 'stool', 'plant', 'cushion', 'picture', 'picture', 'plant', 'cushion', 'cabinet', 'counter', 'cushion', 'table', 'cushion', 'table', 'seating', 'cushion', 'picture', 'chair', 'cushion', 'cabinet', 'bed', 'table', 'picture', 'table', 'stool', 'table', 'picture', 'picture', 'chair', 'sink', 'table', 'cabinet', 'plant', 'table', 'table', 'sofa', 'towel', 'chair', 'sofa', 'shower', 'chair', 'towel', 'clothes', 'table', 'chair', 'sink', 'chair']\n"
     ]
    }
   ],
   "source": [
    "names = []\n",
    "for i in range(900):\n",
    "    names.append(env.episodes[i].object_category)\n",
    "print(len(set(names)))\n",
    "print(names)"
   ]
  },
  {
   "cell_type": "code",
   "execution_count": null,
   "metadata": {},
   "outputs": [],
   "source": [
    "\n",
    "rtra = env._sim.sample_navigable_point()\n",
    "ang = np.random.rand() * 2 * np.pi\n",
    "rrot = quaternion.from_euler_angles(np.array([0, ang, 0]))"
   ]
  },
  {
   "cell_type": "code",
   "execution_count": null,
   "metadata": {},
   "outputs": [],
   "source": [
    "ang = np.random.rand() * 2 * np.pi\n",
    "rrot = quaternion.from_euler_angles(np.array([0, ang, 0]))"
   ]
  },
  {
   "cell_type": "code",
   "execution_count": null,
   "metadata": {},
   "outputs": [],
   "source": [
    "HFOV = 79\n",
    "CAMERA_HEIGHT = 0.88\n",
    "def topdown_position(tra, height=2.5):\n",
    "    return np.array([tra[0], tra[1] + height, tra[2] + CAMERA_HEIGHT])\n",
    "\n",
    "def get_imgs(tra, rot, height=3.0):\n",
    "    td_tra = topdown_position(tra, height)\n",
    "    euler_angles = np.array([np.pi/2, np.pi/2, -np.pi/2 + ang])\n",
    "    td_rot = quaternion.from_euler_angles(euler_angles)\n",
    "    obs = env._sim.get_observations_at(position=tra, rotation=rot, keep_agent_at_new_pose=True)\n",
    "    td_obs = env._sim.get_observations_at(position=td_tra, rotation=td_rot, keep_agent_at_new_pose=False)\n",
    "    return obs['rgb'], obs['depth'], td_obs['semantic']\n",
    "\n",
    "r, d, s = get_imgs(rtra, rrot, 5)\n",
    "plt.imshow(r)\n",
    "plt.show()\n",
    "plt.imshow(d[:, :, 0])\n",
    "plt.show()\n",
    "print(np.max(d))"
   ]
  },
  {
   "cell_type": "code",
   "execution_count": null,
   "metadata": {},
   "outputs": [],
   "source": [
    "fsm = Image.open('./mask80deg.png')\n",
    "#mask = torch.tensor(np.array(Image.open('./mask80deg.png'))[:, :, 0] / 255, requires_grad=False)"
   ]
  },
  {
   "cell_type": "code",
   "execution_count": null,
   "metadata": {},
   "outputs": [],
   "source": [
    "HFOV = 79\n",
    "CAMERA_HEIGHT = 0.88\n",
    "\n",
    "def topdown_position(tra, height=2.5):\n",
    "    return np.array([tra[0], tra[1] + height, tra[2] + CAMERA_HEIGHT])\n",
    "    \n",
    "def color_semantic(semantic_obs):\n",
    "    semantic_img = Image.new(\"P\", (semantic_obs.shape[1], semantic_obs.shape[0]))\n",
    "    semantic_img.putpalette(d3_40_colors_rgb.flatten())\n",
    "    semantic_img.putdata((semantic_obs.flatten() % 40).astype(np.uint8))\n",
    "    semantic_img = semantic_img.convert(\"RGBA\")\n",
    "    return semantic_img\n",
    "\n",
    "def get_imgs(tra, rot, height=3.0):\n",
    "    td_tra = topdown_position(tra, height)\n",
    "    euler_angles = np.array([np.pi/2, np.pi/2, -np.pi/2 + rot[1]])\n",
    "    td_rot = quaternion.from_euler_angles(euler_angles)\n",
    "    rot = quaternion.from_euler_angles(rot)\n",
    "    obs = env._sim.get_observations_at(position=tra, rotation=rot, keep_agent_at_new_pose=True)\n",
    "    td_obs = env._sim.get_observations_at(position=td_tra, rotation=td_rot, keep_agent_at_new_pose=False)\n",
    "    return obs['rgb'], obs['depth'], td_obs['semantic']\n",
    "    \n",
    "def mask_to_fov(img, ang, fov_shape_mask):\n",
    "    #mask = torchrot(fov_shape_mask, ang * 180 / np.pi)\n",
    "    mask = torch.tensor(np.array(fov_shape_mask, dtype=bool), requires_grad=False)[:, :, 0].float()\n",
    "    \n",
    "    return img * mask\n",
    "\n",
    "def to_categories(object_ids, cat_id_map):\n",
    "    for i in range(object_ids.shape[0]):\n",
    "        for j in range(object_ids.shape[1]):\n",
    "            object_ids[i][j] = cat_id_map[int(object_ids[i][j])] + 2"
   ]
  },
  {
   "cell_type": "code",
   "execution_count": null,
   "metadata": {},
   "outputs": [],
   "source": [
    "#tds = torch.tensor(np.array(color_semantic(tds))[:, :, :-1], requires_grad=False).permute(2, 0, 1).unsqueeze(0).float() / 255\n"
   ]
  },
  {
   "cell_type": "code",
   "execution_count": null,
   "metadata": {},
   "outputs": [],
   "source": [
    "model = WarpSeg(43)\n",
    "optimizer = torch.optim.Adam(model.parameters(), weight_decay = 1e-5,  lr=0.001)\n",
    "loss_func = nn.CrossEntropyLoss().to(device)"
   ]
  },
  {
   "cell_type": "code",
   "execution_count": null,
   "metadata": {},
   "outputs": [],
   "source": [
    "d.shape"
   ]
  },
  {
   "cell_type": "code",
   "execution_count": null,
   "metadata": {},
   "outputs": [],
   "source": [
    "bs = 64\n",
    "n_scenes = 1000\n",
    "\n",
    "start = time.time()\n",
    "for scene_i in range(n_scenes):\n",
    "    obs = env.reset()\n",
    "    scene = env.sim.semantic_annotations()\n",
    "    object_id_to_class_id = {int(obj.id.split(\"_\")[-1]): obj.category.index() for obj in scene.objects}\n",
    "    \n",
    "    inputs = torch.zeros(bs, 4, 480, 640).to(device)\n",
    "    targets = torch.zeros(bs, 64, 64).long()\n",
    "    \n",
    "    for i in range(bs):\n",
    "        rtra = env._sim.sample_navigable_point()\n",
    "        ang = np.random.rand() * 2 * np.pi\n",
    "        rrot = np.array([0, ang, 0]))\n",
    "        \n",
    "        rgb, d, tds = get_imgs(rtra, rrot, 5)\n",
    "        tds = torch.tensor(tds.astype(np.float32), requires_grad=False).unsqueeze(0).unsqueeze(0)\n",
    "        tds = F.interpolate(tds[:, :, :, 80:-80], (64, 64), mode='nearest')\n",
    "        to_categories(tds[0][0], object_id_to_class_id)\n",
    "        masked = mask_to_fov(tds, ang, fsm)\n",
    "        \n",
    "        inputs[i, :3] = tensor(rgb / 255.).permute(2, 0, 1)\n",
    "        inputs[i, 3] = tensor(d)[:, :, 0]\n",
    "        targets[i] = masked[0][0]\n",
    "        \n",
    "    targets = targets.to(device)\n",
    "    optimizer.zero_grad()\n",
    "    preds = model(inputs)\n",
    "    loss = loss_func(preds, targets)\n",
    "    loss.backward()\n",
    "    optimizer.step()\n",
    "    \n",
    "    if scene_i % 10 == 0:\n",
    "        print('\\r minibatch %d : trainloss %.4f time %.2f' % \n",
    "                      (scene_i + 1, float(loss.data), time.time() - start))"
   ]
  }
 ],
 "metadata": {
  "kernelspec": {
   "display_name": "habitat",
   "language": "python",
   "name": "habitat"
  },
  "language_info": {
   "codemirror_mode": {
    "name": "ipython",
    "version": 3
   },
   "file_extension": ".py",
   "mimetype": "text/x-python",
   "name": "python",
   "nbconvert_exporter": "python",
   "pygments_lexer": "ipython3",
   "version": "3.6.10"
  }
 },
 "nbformat": 4,
 "nbformat_minor": 2
}
